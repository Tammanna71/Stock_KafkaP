{
 "cells": [
  {
   "cell_type": "code",
   "execution_count": null,
   "id": "86817c6c-285f-45a4-bbde-79113f6b2b2b",
   "metadata": {},
   "outputs": [],
   "source": [
    "pip install kafka-python\n"
   ]
  },
  {
   "cell_type": "code",
   "execution_count": null,
   "id": "16030ad8-11d5-4810-a21d-3b77f12160fd",
   "metadata": {},
   "outputs": [],
   "source": [
    "import pandas as pd\n",
    "from kafka import KafkaProducer\n",
    "from time import sleep\n",
    "from json import dumps\n",
    "import json"
   ]
  },
  {
   "cell_type": "code",
   "execution_count": null,
   "id": "9e4be10b-4ff5-4fe8-90dc-6baf3382f04c",
   "metadata": {},
   "outputs": [],
   "source": [
    "producer = KafkaProducer(bootstrap_servers=[':9092'],      #add your DNS server IP\n",
    "                        value_serializer=lambda x:\n",
    "                        dumps(x).encode('utf-8'))"
   ]
  },
  {
   "cell_type": "code",
   "execution_count": null,
   "id": "0151de9a-251f-4ce0-a26a-d789654c973e",
   "metadata": {},
   "outputs": [],
   "source": [
    "producer.send('demo_test', value={'name':'tamanna'})"
   ]
  },
  {
   "cell_type": "code",
   "execution_count": null,
   "id": "45f8b20f-21a6-4a1f-aad6-5c71e4c02a90",
   "metadata": {},
   "outputs": [],
   "source": [
    "df = pd.read_csv(\"\")     #add dataset path"
   ]
  },
  {
   "cell_type": "code",
   "execution_count": null,
   "id": "f9f929f8-ff5a-4d85-aa73-04c9d9d33cad",
   "metadata": {},
   "outputs": [],
   "source": [
    "df.head()"
   ]
  },
  {
   "cell_type": "code",
   "execution_count": null,
   "id": "1a1ed59d-f572-48a9-ade2-e42c5c059c28",
   "metadata": {},
   "outputs": [],
   "source": [
    "while True:\n",
    "    dict_stock = df.sample(1).to_dict(orient=\"records\")[0]\n",
    "    producer.send('demo_test', value=dict_stock)\n",
    "    sleep(1)    #delay of 1 second is added so that server doesn't get overloaded"
   ]
  },
  {
   "cell_type": "code",
   "execution_count": null,
   "id": "08f4defa-f3f1-4922-9092-dd23f8b10647",
   "metadata": {},
   "outputs": [],
   "source": [
    "producer.flush()"
   ]
  },
  {
   "cell_type": "code",
   "execution_count": null,
   "id": "d6f5a0f5-dd8c-4831-a1f3-687571f20638",
   "metadata": {},
   "outputs": [],
   "source": []
  }
 ],
 "metadata": {
  "kernelspec": {
   "display_name": "Python 3 (ipykernel)",
   "language": "python",
   "name": "python3"
  },
  "language_info": {
   "codemirror_mode": {
    "name": "ipython",
    "version": 3
   },
   "file_extension": ".py",
   "mimetype": "text/x-python",
   "name": "python",
   "nbconvert_exporter": "python",
   "pygments_lexer": "ipython3",
   "version": "3.12.7"
  }
 },
 "nbformat": 4,
 "nbformat_minor": 5
}
